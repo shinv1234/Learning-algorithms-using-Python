{
 "cells": [
  {
   "cell_type": "markdown",
   "metadata": {},
   "source": [
    "## Algorithms For Everyone"
   ]
  },
  {
   "cell_type": "code",
   "execution_count": 1,
   "metadata": {
    "collapsed": true
   },
   "outputs": [],
   "source": [
    "def sum1toN(n): # O(n): n회 곱셈\n",
    "    sum = 0\n",
    "    for i in range(1, n+1):\n",
    "        sum += i\n",
    "    return sum"
   ]
  },
  {
   "cell_type": "code",
   "execution_count": 2,
   "metadata": {},
   "outputs": [
    {
     "name": "stdout",
     "output_type": "stream",
     "text": [
      "Wall time: 900 ms\n"
     ]
    },
    {
     "data": {
      "text/plain": [
       "(55, 5050, 500500, 50005000, 50000005000000)"
      ]
     },
     "execution_count": 2,
     "metadata": {},
     "output_type": "execute_result"
    }
   ],
   "source": [
    "%%time\n",
    "sum1toN(10), sum1toN(100), sum1toN(1000), sum1toN(10000),  sum1toN(10000000)"
   ]
  },
  {
   "cell_type": "code",
   "execution_count": 3,
   "metadata": {
    "collapsed": true
   },
   "outputs": [],
   "source": [
    "def sum1toNfromGauss(n): #O(1): 덧셈 1회 곱셈 1회 나누기 1회\n",
    "    return n * (n + 1) // 2 # a // b: int(a / b)"
   ]
  },
  {
   "cell_type": "code",
   "execution_count": 4,
   "metadata": {},
   "outputs": [
    {
     "name": "stdout",
     "output_type": "stream",
     "text": [
      "Wall time: 0 ns\n"
     ]
    },
    {
     "data": {
      "text/plain": [
       "(55, 5050, 500500, 50005000, 50000005000000)"
      ]
     },
     "execution_count": 4,
     "metadata": {},
     "output_type": "execute_result"
    }
   ],
   "source": [
    "%%time\n",
    "sum1toNfromGauss(10), sum1toNfromGauss(100), sum1toNfromGauss(1000), sum1toNfromGauss(10000), sum1toNfromGauss(10000000)"
   ]
  },
  {
   "cell_type": "code",
   "execution_count": 5,
   "metadata": {
    "collapsed": true
   },
   "outputs": [],
   "source": [
    "def sumofsquared(n): #O(n): 2n\n",
    "    sum = 0\n",
    "    for i in range(1, n+1):\n",
    "        sum += i**2\n",
    "    return sum"
   ]
  },
  {
   "cell_type": "code",
   "execution_count": 6,
   "metadata": {},
   "outputs": [
    {
     "data": {
      "text/plain": [
       "(385, 338350)"
      ]
     },
     "execution_count": 6,
     "metadata": {},
     "output_type": "execute_result"
    }
   ],
   "source": [
    "sumofsquared(10), sumofsquared(100)"
   ]
  },
  {
   "cell_type": "code",
   "execution_count": 7,
   "metadata": {
    "collapsed": true
   },
   "outputs": [],
   "source": [
    "def sumofsquared2(n): # O(1)\n",
    "    return n * (n+1) * (2*n + 1) // 6"
   ]
  },
  {
   "cell_type": "code",
   "execution_count": 8,
   "metadata": {},
   "outputs": [
    {
     "data": {
      "text/plain": [
       "(385, 338350)"
      ]
     },
     "execution_count": 8,
     "metadata": {},
     "output_type": "execute_result"
    }
   ],
   "source": [
    "sumofsquared2(10), sumofsquared2(100)"
   ]
  },
  {
   "cell_type": "code",
   "execution_count": 9,
   "metadata": {
    "collapsed": true
   },
   "outputs": [],
   "source": [
    "def findmax(lst): # O(n)..?\n",
    "    a = 0\n",
    "    for idx, i in enumerate(lst):\n",
    "        if idx == 0:\n",
    "            a = i\n",
    "        elif i > a:\n",
    "            a = i\n",
    "        else:\n",
    "            pass\n",
    "    return a"
   ]
  },
  {
   "cell_type": "code",
   "execution_count": 10,
   "metadata": {
    "collapsed": true
   },
   "outputs": [],
   "source": [
    "def findmax2(lst):\n",
    "    max = lst[0]\n",
    "    for i in lst:\n",
    "        if i > max:\n",
    "            max = i\n",
    "        else:\n",
    "            pass\n",
    "    return max"
   ]
  },
  {
   "cell_type": "code",
   "execution_count": 11,
   "metadata": {
    "collapsed": true
   },
   "outputs": [],
   "source": [
    "lst1 = [1, 2, 3, 4]\n",
    "lst2 = [3, 2, 1, 4]\n",
    "lst3 = [1, 4, 2, 5]\n",
    "lst4 = [2, 6, 7, 1]\n",
    "lst5 = [1, 8, 2, 1]"
   ]
  },
  {
   "cell_type": "code",
   "execution_count": 12,
   "metadata": {},
   "outputs": [
    {
     "data": {
      "text/plain": [
       "(4, 4, 5, 7, 8)"
      ]
     },
     "execution_count": 12,
     "metadata": {},
     "output_type": "execute_result"
    }
   ],
   "source": [
    "findmax(lst1), findmax(lst2), findmax(lst3), findmax(lst4), findmax(lst5)"
   ]
  },
  {
   "cell_type": "code",
   "execution_count": 13,
   "metadata": {},
   "outputs": [
    {
     "data": {
      "text/plain": [
       "(4, 4, 5, 7, 8)"
      ]
     },
     "execution_count": 13,
     "metadata": {},
     "output_type": "execute_result"
    }
   ],
   "source": [
    "findmax2(lst1), findmax2(lst2), findmax2(lst3), findmax2(lst4), findmax2(lst5)"
   ]
  },
  {
   "cell_type": "code",
   "execution_count": 14,
   "metadata": {
    "collapsed": true
   },
   "outputs": [],
   "source": [
    "def findmaxidx(lst):\n",
    "    max = 0\n",
    "    for idx, i in enumerate(lst):\n",
    "        if idx == 0:\n",
    "            max = i\n",
    "            max_idx = 0\n",
    "        elif i > max:\n",
    "            max = i\n",
    "            max_idx = idx\n",
    "        else:\n",
    "            pass\n",
    "        # print(idx, i, max, max_idx)\n",
    "    return max_idx"
   ]
  },
  {
   "cell_type": "code",
   "execution_count": 15,
   "metadata": {},
   "outputs": [
    {
     "data": {
      "text/plain": [
       "(3, 3, 3, 2, 1)"
      ]
     },
     "execution_count": 15,
     "metadata": {},
     "output_type": "execute_result"
    }
   ],
   "source": [
    "findmaxidx(lst1), findmaxidx(lst2), findmaxidx(lst3), findmaxidx(lst4), findmaxidx(lst5)"
   ]
  },
  {
   "cell_type": "code",
   "execution_count": null,
   "metadata": {
    "collapsed": true
   },
   "outputs": [],
   "source": []
  },
  {
   "cell_type": "code",
   "execution_count": 16,
   "metadata": {
    "collapsed": true
   },
   "outputs": [],
   "source": [
    "name1 = [\"Tom\", \"Jerry\", \"Mike\", \"Tom\"]\n",
    "name2 = [\"Tom\", \"Jerry\", \"Mike\", \"Tom\", \"Mike\"]"
   ]
  },
  {
   "cell_type": "code",
   "execution_count": 17,
   "metadata": {
    "collapsed": true
   },
   "outputs": [],
   "source": [
    "def samename(lst):\n",
    "    result = set()\n",
    "    for idx, i in enumerate(lst):\n",
    "        for j in lst[idx+1 :]:\n",
    "            if i == j:\n",
    "                result.add(i)\n",
    "            else:\n",
    "                pass\n",
    "    return list(result)"
   ]
  },
  {
   "cell_type": "code",
   "execution_count": 18,
   "metadata": {},
   "outputs": [
    {
     "data": {
      "text/plain": [
       "4"
      ]
     },
     "execution_count": 18,
     "metadata": {},
     "output_type": "execute_result"
    }
   ],
   "source": [
    "len(name1)"
   ]
  },
  {
   "cell_type": "code",
   "execution_count": 19,
   "metadata": {
    "collapsed": true
   },
   "outputs": [],
   "source": [
    "def find_same_name(a):\n",
    "    n = len(a)\n",
    "    result = set()\n",
    "    for i in range(0, n - 1):\n",
    "        for j in range(i + 1, n):\n",
    "            if a[i] == a[j]:\n",
    "                result.add(a[i])\n",
    "    return result"
   ]
  },
  {
   "cell_type": "code",
   "execution_count": 20,
   "metadata": {},
   "outputs": [
    {
     "data": {
      "text/plain": [
       "(['Tom'], ['Mike', 'Tom'])"
      ]
     },
     "execution_count": 20,
     "metadata": {},
     "output_type": "execute_result"
    }
   ],
   "source": [
    "samename(name1), samename(name2)"
   ]
  },
  {
   "cell_type": "code",
   "execution_count": 21,
   "metadata": {},
   "outputs": [
    {
     "data": {
      "text/plain": [
       "({'Tom'}, {'Mike', 'Tom'})"
      ]
     },
     "execution_count": 21,
     "metadata": {},
     "output_type": "execute_result"
    }
   ],
   "source": [
    "find_same_name(name1), find_same_name(name2)"
   ]
  },
  {
   "cell_type": "code",
   "execution_count": 1,
   "metadata": {},
   "outputs": [
    {
     "data": {
      "text/plain": [
       "['Tom', 'Jerry', 'Mike']"
      ]
     },
     "execution_count": 1,
     "metadata": {},
     "output_type": "execute_result"
    }
   ],
   "source": [
    "[\"Tom\", \"Jerry\", \"Mike\"]"
   ]
  },
  {
   "cell_type": "code",
   "execution_count": 5,
   "metadata": {},
   "outputs": [
    {
     "name": "stdout",
     "output_type": "stream",
     "text": [
      "Tom Jerry\n",
      "Tom Mike\n",
      "Tom Kim\n",
      "Jerry Mike\n",
      "Jerry Kim\n",
      "Mike Kim\n"
     ]
    }
   ],
   "source": [
    "aaa = [\"Tom\", \"Jerry\", \"Mike\", \"Kim\"]\n",
    "for idx, i in enumerate(aaa):\n",
    "    for j in aaa[idx + 1:]:\n",
    "        print(i, j)"
   ]
  },
  {
   "cell_type": "code",
   "execution_count": null,
   "metadata": {
    "collapsed": true
   },
   "outputs": [],
   "source": []
  },
  {
   "cell_type": "code",
   "execution_count": null,
   "metadata": {
    "collapsed": true
   },
   "outputs": [],
   "source": []
  },
  {
   "cell_type": "code",
   "execution_count": null,
   "metadata": {
    "collapsed": true
   },
   "outputs": [],
   "source": []
  }
 ],
 "metadata": {
  "kernelspec": {
   "display_name": "Python 3",
   "language": "python",
   "name": "python3"
  },
  "language_info": {
   "codemirror_mode": {
    "name": "ipython",
    "version": 3
   },
   "file_extension": ".py",
   "mimetype": "text/x-python",
   "name": "python",
   "nbconvert_exporter": "python",
   "pygments_lexer": "ipython3",
   "version": "3.5.3"
  }
 },
 "nbformat": 4,
 "nbformat_minor": 2
}
