{
 "cells": [
  {
   "cell_type": "code",
   "execution_count": 3,
   "metadata": {
    "collapsed": true
   },
   "outputs": [],
   "source": [
    "lst = [1, 6, 3, 88, 92, 5, 4, 3]"
   ]
  },
  {
   "cell_type": "code",
   "execution_count": 4,
   "metadata": {
    "collapsed": true
   },
   "outputs": [],
   "source": [
    "def list_position(lst, x):\n",
    "    idx_lst = list()\n",
    "    for idx, i in enumerate(lst):\n",
    "        if x == i:\n",
    "            idx_lst.append(idx)\n",
    "    if len(idx_lst) == 1:\n",
    "        return idx_lst[0]\n",
    "    elif len(idx_lst) == 0:\n",
    "        return None\n",
    "    else:\n",
    "        return idx_lst"
   ]
  },
  {
   "cell_type": "code",
   "execution_count": 7,
   "metadata": {},
   "outputs": [
    {
     "data": {
      "text/plain": [
       "(0, [2, 7], None)"
      ]
     },
     "execution_count": 7,
     "metadata": {},
     "output_type": "execute_result"
    }
   ],
   "source": [
    "list_position(lst, 1), list_position(lst, 3), list_position(lst, 99)"
   ]
  },
  {
   "cell_type": "code",
   "execution_count": 37,
   "metadata": {
    "collapsed": true
   },
   "outputs": [],
   "source": [
    "def num_match_name(num_lst, name_lst, num):\n",
    "    if num in num_lst:\n",
    "        for idx, i in enumerate(num_lst):\n",
    "            if num == i:\n",
    "                return name_lst[idx]\n",
    "            else:\n",
    "                pass\n",
    "    else:\n",
    "        return '?'"
   ]
  },
  {
   "cell_type": "code",
   "execution_count": 38,
   "metadata": {
    "collapsed": true
   },
   "outputs": [],
   "source": [
    "stu_no = [39, 14, 67, 105]\n",
    "stu_name = [\"Justin\", \"John\", \"Mike\", \"Summer\"]"
   ]
  },
  {
   "cell_type": "code",
   "execution_count": 41,
   "metadata": {},
   "outputs": [
    {
     "data": {
      "text/plain": [
       "('John', 'Summer', '?')"
      ]
     },
     "execution_count": 41,
     "metadata": {},
     "output_type": "execute_result"
    }
   ],
   "source": [
    "num_match_name(stu_no, stu_name, 14), num_match_name(stu_no, stu_name, 105), num_match_name(stu_no, stu_name, 1)"
   ]
  },
  {
   "cell_type": "code",
   "execution_count": 36,
   "metadata": {},
   "outputs": [
    {
     "name": "stdout",
     "output_type": "stream",
     "text": [
      "0 39 Justin\n",
      "1 14 John\n",
      "2 67 Mike\n",
      "3 105 Summer\n"
     ]
    }
   ],
   "source": [
    "for idx, i in enumerate([39, 14, 67, 105]):\n",
    "    print(idx, i, [\"Justin\", \"John\", \"Mike\", \"Summer\"][idx])"
   ]
  },
  {
   "cell_type": "code",
   "execution_count": 101,
   "metadata": {
    "collapsed": true
   },
   "outputs": [],
   "source": [
    "d = [2, 4, 5, 1, 3]"
   ]
  },
  {
   "cell_type": "code",
   "execution_count": 105,
   "metadata": {
    "collapsed": true
   },
   "outputs": [],
   "source": [
    "def selection_sort(lst):\n",
    "    sort_lst = list()\n",
    "    for idx, i in enumerate(lst):\n",
    "        min = lst[0]\n",
    "        for idx2, j in  enumerate(lst):\n",
    "            if min > j:\n",
    "                min = j\n",
    "            else:\n",
    "                pass\n",
    "        print(idx, min)\n",
    "        sort_lst.append(min)\n",
    "        print('sort_lst: ', sort_lst)\n",
    "        for idx3, k in enumerate(lst):\n",
    "            if k == min:\n",
    "                del lst[idx3]\n",
    "        print('idx2: ', idx3, 'lst: ', lst)\n",
    "    return sort_lst"
   ]
  },
  {
   "cell_type": "code",
   "execution_count": 124,
   "metadata": {
    "collapsed": true
   },
   "outputs": [],
   "source": [
    "def selection_sort(lst):\n",
    "    sort_lst = list()\n",
    "    min = lst[0]\n",
    "    while lst:\n",
    "        for i in lst:\n",
    "            if min > i:\n",
    "                min = i\n",
    "            sort_lst.append(min)\n",
    "            print(min, sort_lst)\n",
    "            for idx2, j in enumerate(lst):\n",
    "                if min == j:\n",
    "                    del_idx = idx2\n",
    "            del lst[del_idx]\n",
    "            print(lst)\n",
    "    return sort_lst"
   ]
  },
  {
   "cell_type": "code",
   "execution_count": 129,
   "metadata": {
    "collapsed": true
   },
   "outputs": [],
   "source": [
    "def selection_sort(lst):\n",
    "    sort_lst = list()\n",
    "    min = lst[0]\n",
    "    while lst:\n",
    "        for idx, i in enumerate(lst):\n",
    "            if lst[idx] < min:\n",
    "                min_idx = idx\n",
    "        print(lst[min_idx])\n",
    "        sort_lst.append(lst[min_idx])\n",
    "        del lst[min_idx]\n",
    "    return sort_lst\n",
    "        "
   ]
  },
  {
   "cell_type": "code",
   "execution_count": 191,
   "metadata": {
    "collapsed": true
   },
   "outputs": [],
   "source": [
    "def selection_sort(lst):\n",
    "    sort_lst = list()\n",
    "    for idx0, j in enumerate(lst):\n",
    "        min = lst[0]\n",
    "        print(idx0, min)\n",
    "        min_idx = 0\n",
    "        for idx, i in enumerate(lst):\n",
    "            if min > i:\n",
    "                min = i\n",
    "                min_idx = idx\n",
    "        sort_lst.append(min)\n",
    "        print(\"del_idx: \",min_idx)\n",
    "        print(\"del: \", lst[min_idx])\n",
    "        lst.pop(min_idx) # del lst[min_idx] (same)\n",
    "        print(\"lst: \", lst)\n",
    "        print(\"sort_lst: \", sort_lst)\n",
    "    return sort_lst"
   ]
  },
  {
   "cell_type": "code",
   "execution_count": 192,
   "metadata": {},
   "outputs": [
    {
     "name": "stdout",
     "output_type": "stream",
     "text": [
      "0 2\n",
      "del_idx:  3\n",
      "del:  1\n",
      "lst:  [2, 4, 5, 3]\n",
      "sort_lst:  [1]\n",
      "1 2\n",
      "del_idx:  0\n",
      "del:  2\n",
      "lst:  [4, 5, 3]\n",
      "sort_lst:  [1, 2]\n",
      "2 4\n",
      "del_idx:  2\n",
      "del:  3\n",
      "lst:  [4, 5]\n",
      "sort_lst:  [1, 2, 3]\n",
      "[1, 2, 3]\n"
     ]
    }
   ],
   "source": [
    "d = [2, 4, 5, 1, 3]\n",
    "print(selection_sort(d))"
   ]
  },
  {
   "cell_type": "code",
   "execution_count": null,
   "metadata": {
    "collapsed": true
   },
   "outputs": [],
   "source": []
  },
  {
   "cell_type": "code",
   "execution_count": 3,
   "metadata": {
    "collapsed": true
   },
   "outputs": [],
   "source": [
    "def insert_sort(lst):\n",
    "    sort_lst = list()\n",
    "    for i in lst:\n",
    "    # for i in range(len(lst)):\n",
    "        iv = lst.pop(0)\n",
    "        # iv = lst[i]\n",
    "        if (len(sort_lst) == 0) or (sort_lst[-1] < iv):\n",
    "            sort_lst.append(iv)\n",
    "        else:\n",
    "            for idx0, j in enumerate(sort_lst):\n",
    "                if j >= iv:\n",
    "                    sort_lst.insert(idx0, iv)\n",
    "    return sort_lst"
   ]
  },
  {
   "cell_type": "code",
   "execution_count": null,
   "metadata": {
    "collapsed": true
   },
   "outputs": [],
   "source": [
    "d = [2, 4, 5, 1, 3]\n",
    "print(insert_sort(d))"
   ]
  },
  {
   "cell_type": "code",
   "execution_count": 2,
   "metadata": {},
   "outputs": [
    {
     "name": "stdout",
     "output_type": "stream",
     "text": [
      "0\n",
      "1\n",
      "2\n",
      "3\n",
      "4\n"
     ]
    }
   ],
   "source": [
    "d = [2, 4, 5, 1, 3]\n",
    "for i in range(len(d)):\n",
    "    print(i)"
   ]
  },
  {
   "cell_type": "code",
   "execution_count": null,
   "metadata": {
    "collapsed": true
   },
   "outputs": [],
   "source": []
  },
  {
   "cell_type": "code",
   "execution_count": null,
   "metadata": {
    "collapsed": true
   },
   "outputs": [],
   "source": []
  },
  {
   "cell_type": "code",
   "execution_count": null,
   "metadata": {
    "collapsed": true
   },
   "outputs": [],
   "source": []
  }
 ],
 "metadata": {
  "kernelspec": {
   "display_name": "Python 3",
   "language": "python",
   "name": "python3"
  },
  "language_info": {
   "codemirror_mode": {
    "name": "ipython",
    "version": 3
   },
   "file_extension": ".py",
   "mimetype": "text/x-python",
   "name": "python",
   "nbconvert_exporter": "python",
   "pygments_lexer": "ipython3",
   "version": "3.5.3"
  }
 },
 "nbformat": 4,
 "nbformat_minor": 2
}
