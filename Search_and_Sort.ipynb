{
 "cells": [
  {
   "cell_type": "code",
   "execution_count": 3,
   "metadata": {
    "collapsed": true
   },
   "outputs": [],
   "source": [
    "lst = [1, 6, 3, 88, 92, 5, 4, 3]"
   ]
  },
  {
   "cell_type": "code",
   "execution_count": 4,
   "metadata": {
    "collapsed": true
   },
   "outputs": [],
   "source": [
    "def list_position(lst, x):\n",
    "    idx_lst = list()\n",
    "    for idx, i in enumerate(lst):\n",
    "        if x == i:\n",
    "            idx_lst.append(idx)\n",
    "    if len(idx_lst) == 1:\n",
    "        return idx_lst[0]\n",
    "    elif len(idx_lst) == 0:\n",
    "        return None\n",
    "    else:\n",
    "        return idx_lst"
   ]
  },
  {
   "cell_type": "code",
   "execution_count": 7,
   "metadata": {},
   "outputs": [
    {
     "data": {
      "text/plain": [
       "(0, [2, 7], None)"
      ]
     },
     "execution_count": 7,
     "metadata": {},
     "output_type": "execute_result"
    }
   ],
   "source": [
    "list_position(lst, 1), list_position(lst, 3), list_position(lst, 99)"
   ]
  },
  {
   "cell_type": "code",
   "execution_count": 37,
   "metadata": {
    "collapsed": true
   },
   "outputs": [],
   "source": [
    "def num_match_name(num_lst, name_lst, num):\n",
    "    if num in num_lst:\n",
    "        for idx, i in enumerate(num_lst):\n",
    "            if num == i:\n",
    "                return name_lst[idx]\n",
    "            else:\n",
    "                pass\n",
    "    else:\n",
    "        return '?'"
   ]
  },
  {
   "cell_type": "code",
   "execution_count": 38,
   "metadata": {
    "collapsed": true
   },
   "outputs": [],
   "source": [
    "stu_no = [39, 14, 67, 105]\n",
    "stu_name = [\"Justin\", \"John\", \"Mike\", \"Summer\"]"
   ]
  },
  {
   "cell_type": "code",
   "execution_count": 41,
   "metadata": {},
   "outputs": [
    {
     "data": {
      "text/plain": [
       "('John', 'Summer', '?')"
      ]
     },
     "execution_count": 41,
     "metadata": {},
     "output_type": "execute_result"
    }
   ],
   "source": [
    "num_match_name(stu_no, stu_name, 14), num_match_name(stu_no, stu_name, 105), num_match_name(stu_no, stu_name, 1)"
   ]
  },
  {
   "cell_type": "code",
   "execution_count": 36,
   "metadata": {},
   "outputs": [
    {
     "name": "stdout",
     "output_type": "stream",
     "text": [
      "0 39 Justin\n",
      "1 14 John\n",
      "2 67 Mike\n",
      "3 105 Summer\n"
     ]
    }
   ],
   "source": [
    "for idx, i in enumerate([39, 14, 67, 105]):\n",
    "    print(idx, i, [\"Justin\", \"John\", \"Mike\", \"Summer\"][idx])"
   ]
  },
  {
   "cell_type": "code",
   "execution_count": 93,
   "metadata": {},
   "outputs": [],
   "source": [
    "d = [2, 4, 5, 1, 3]"
   ]
  },
  {
   "cell_type": "code",
   "execution_count": 94,
   "metadata": {},
   "outputs": [],
   "source": [
    "def selection_sort(lst):\n",
    "    sort_lst = list()\n",
    "    for idx, i in enumerate(lst):\n",
    "        min = lst[0]\n",
    "        for idx2, j in  enumerate(lst):\n",
    "            if min > j:\n",
    "                min = j\n",
    "            else:\n",
    "                pass\n",
    "        print(idx, min)\n",
    "        sort_lst.append(min)\n",
    "        print('sort_lst: ', sort_lst)\n",
    "        for idx3, k in enumerate(lst):\n",
    "            if k == min:\n",
    "                del lst[idx3]\n",
    "        print('idx2: ', idx3, 'lst: ', lst)\n",
    "    return sort_lst"
   ]
  },
  {
   "cell_type": "code",
   "execution_count": 95,
   "metadata": {},
   "outputs": [
    {
     "name": "stdout",
     "output_type": "stream",
     "text": [
      "0 1\n",
      "sort_lst:  [1]\n",
      "idx2:  3 lst:  [2, 4, 5, 3]\n",
      "1 2\n",
      "sort_lst:  [1, 2]\n",
      "idx2:  2 lst:  [4, 5, 3]\n",
      "2 3\n",
      "sort_lst:  [1, 2, 3]\n",
      "idx2:  2 lst:  [4, 5]\n"
     ]
    },
    {
     "data": {
      "text/plain": [
       "[1, 2, 3]"
      ]
     },
     "execution_count": 95,
     "metadata": {},
     "output_type": "execute_result"
    }
   ],
   "source": [
    "selection_sort(d)"
   ]
  },
  {
   "cell_type": "code",
   "execution_count": null,
   "metadata": {
    "collapsed": true
   },
   "outputs": [],
   "source": []
  },
  {
   "cell_type": "code",
   "execution_count": null,
   "metadata": {
    "collapsed": true
   },
   "outputs": [],
   "source": []
  }
 ],
 "metadata": {
  "kernelspec": {
   "display_name": "Python 3",
   "language": "python",
   "name": "python3"
  },
  "language_info": {
   "codemirror_mode": {
    "name": "ipython",
    "version": 3
   },
   "file_extension": ".py",
   "mimetype": "text/x-python",
   "name": "python",
   "nbconvert_exporter": "python",
   "pygments_lexer": "ipython3",
   "version": "3.5.3"
  }
 },
 "nbformat": 4,
 "nbformat_minor": 2
}
